{
 "metadata": {
  "name": "ch02 usa.gov bitly"
 },
 "nbformat": 3,
 "nbformat_minor": 0,
 "worksheets": [
  {
   "cells": [
    {
     "cell_type": "markdown",
     "metadata": {},
     "source": [
      "Usa.gov data from bit.ly\n",
      "========================\n",
      " p17 to p26 (edition 1)"
     ]
    },
    {
     "cell_type": "code",
     "collapsed": false,
     "input": [
      "import pandas as pd\n",
      "import json\n",
      "\n",
      "path = '../ch02/usagov_bitly_data2012-03-16-1331923249.txt'\n",
      "\n",
      "records = [json.loads(line) for line in open(path)]\n",
      "\n",
      "from pprint import pprint\n",
      "pprint(records[:2])\n",
      "\n",
      "\n",
      "df = pd.DataFrame(records)\n",
      "df.head(2).T"
     ],
     "language": "python",
     "metadata": {},
     "outputs": [
      {
       "output_type": "stream",
       "stream": "stdout",
       "text": [
        "[{u'a': u'Mozilla/5.0 (Windows NT 6.1; WOW64) AppleWebKit/535.11 (KHTML, like Gecko) Chrome/17.0.963.78 Safari/535.11',\n",
        "  u'al': u'en-US,en;q=0.8',\n",
        "  u'c': u'US',\n",
        "  u'cy': u'Danvers',\n",
        "  u'g': u'A6qOVH',\n",
        "  u'gr': u'MA',\n",
        "  u'h': u'wfLQtf',\n",
        "  u'hc': 1331822918,\n",
        "  u'hh': u'1.usa.gov',\n",
        "  u'l': u'orofrog',\n",
        "  u'll': [42.576698, -70.954903],\n",
        "  u'nk': 1,\n",
        "  u'r': u'http://www.facebook.com/l/7AQEFzjSi/1.usa.gov/wfLQtf',\n",
        "  u't': 1331923247,\n",
        "  u'tz': u'America/New_York',\n",
        "  u'u': u'http://www.ncbi.nlm.nih.gov/pubmed/22415991'},\n",
        " {u'a': u'GoogleMaps/RochesterNY',\n",
        "  u'c': u'US',\n",
        "  u'cy': u'Provo',\n",
        "  u'g': u'mwszkS',\n",
        "  u'gr': u'UT',\n",
        "  u'h': u'mwszkS',\n",
        "  u'hc': 1308262393,\n",
        "  u'hh': u'j.mp',\n",
        "  u'l': u'bitly',\n",
        "  u'll': [40.218102, -111.613297],\n",
        "  u'nk': 0,\n",
        "  u'r': u'http://www.AwareMap.com/',\n",
        "  u't': 1331923249,\n",
        "  u'tz': u'America/Denver',\n",
        "  u'u': u'http://www.monroecounty.gov/etc/911/rss.php'}]\n"
       ]
      },
      {
       "html": [
        "<div style=\"max-height:1000px;max-width:1500px;overflow:auto;\">\n",
        "<table border=\"1\" class=\"dataframe\">\n",
        "  <thead>\n",
        "    <tr style=\"text-align: right;\">\n",
        "      <th></th>\n",
        "      <th>0</th>\n",
        "      <th>1</th>\n",
        "    </tr>\n",
        "  </thead>\n",
        "  <tbody>\n",
        "    <tr>\n",
        "      <th>_heartbeat_</th>\n",
        "      <td>                                               NaN</td>\n",
        "      <td>                                         NaN</td>\n",
        "    </tr>\n",
        "    <tr>\n",
        "      <th>a</th>\n",
        "      <td> Mozilla/5.0 (Windows NT 6.1; WOW64) AppleWebKi...</td>\n",
        "      <td>                      GoogleMaps/RochesterNY</td>\n",
        "    </tr>\n",
        "    <tr>\n",
        "      <th>al</th>\n",
        "      <td>                                    en-US,en;q=0.8</td>\n",
        "      <td>                                         NaN</td>\n",
        "    </tr>\n",
        "    <tr>\n",
        "      <th>c</th>\n",
        "      <td>                                                US</td>\n",
        "      <td>                                          US</td>\n",
        "    </tr>\n",
        "    <tr>\n",
        "      <th>cy</th>\n",
        "      <td>                                           Danvers</td>\n",
        "      <td>                                       Provo</td>\n",
        "    </tr>\n",
        "    <tr>\n",
        "      <th>g</th>\n",
        "      <td>                                            A6qOVH</td>\n",
        "      <td>                                      mwszkS</td>\n",
        "    </tr>\n",
        "    <tr>\n",
        "      <th>gr</th>\n",
        "      <td>                                                MA</td>\n",
        "      <td>                                          UT</td>\n",
        "    </tr>\n",
        "    <tr>\n",
        "      <th>h</th>\n",
        "      <td>                                            wfLQtf</td>\n",
        "      <td>                                      mwszkS</td>\n",
        "    </tr>\n",
        "    <tr>\n",
        "      <th>hc</th>\n",
        "      <td>                                      1.331823e+09</td>\n",
        "      <td>                                1.308262e+09</td>\n",
        "    </tr>\n",
        "    <tr>\n",
        "      <th>hh</th>\n",
        "      <td>                                         1.usa.gov</td>\n",
        "      <td>                                        j.mp</td>\n",
        "    </tr>\n",
        "    <tr>\n",
        "      <th>kw</th>\n",
        "      <td>                                               NaN</td>\n",
        "      <td>                                         NaN</td>\n",
        "    </tr>\n",
        "    <tr>\n",
        "      <th>l</th>\n",
        "      <td>                                           orofrog</td>\n",
        "      <td>                                       bitly</td>\n",
        "    </tr>\n",
        "    <tr>\n",
        "      <th>ll</th>\n",
        "      <td>                           [42.576698, -70.954903]</td>\n",
        "      <td>                    [40.218102, -111.613297]</td>\n",
        "    </tr>\n",
        "    <tr>\n",
        "      <th>nk</th>\n",
        "      <td>                                                 1</td>\n",
        "      <td>                                           0</td>\n",
        "    </tr>\n",
        "    <tr>\n",
        "      <th>r</th>\n",
        "      <td> http://www.facebook.com/l/7AQEFzjSi/1.usa.gov/...</td>\n",
        "      <td>                    http://www.AwareMap.com/</td>\n",
        "    </tr>\n",
        "    <tr>\n",
        "      <th>t</th>\n",
        "      <td>                                      1.331923e+09</td>\n",
        "      <td>                                1.331923e+09</td>\n",
        "    </tr>\n",
        "    <tr>\n",
        "      <th>tz</th>\n",
        "      <td>                                  America/New_York</td>\n",
        "      <td>                              America/Denver</td>\n",
        "    </tr>\n",
        "    <tr>\n",
        "      <th>u</th>\n",
        "      <td>       http://www.ncbi.nlm.nih.gov/pubmed/22415991</td>\n",
        "      <td> http://www.monroecounty.gov/etc/911/rss.php</td>\n",
        "    </tr>\n",
        "  </tbody>\n",
        "</table>\n",
        "</div>"
       ],
       "output_type": "pyout",
       "prompt_number": 42,
       "text": [
        "                                                             0  \\\n",
        "_heartbeat_                                                NaN   \n",
        "a            Mozilla/5.0 (Windows NT 6.1; WOW64) AppleWebKi...   \n",
        "al                                              en-US,en;q=0.8   \n",
        "c                                                           US   \n",
        "cy                                                     Danvers   \n",
        "g                                                       A6qOVH   \n",
        "gr                                                          MA   \n",
        "h                                                       wfLQtf   \n",
        "hc                                                1.331823e+09   \n",
        "hh                                                   1.usa.gov   \n",
        "kw                                                         NaN   \n",
        "l                                                      orofrog   \n",
        "ll                                     [42.576698, -70.954903]   \n",
        "nk                                                           1   \n",
        "r            http://www.facebook.com/l/7AQEFzjSi/1.usa.gov/...   \n",
        "t                                                 1.331923e+09   \n",
        "tz                                            America/New_York   \n",
        "u                  http://www.ncbi.nlm.nih.gov/pubmed/22415991   \n",
        "\n",
        "                                                       1  \n",
        "_heartbeat_                                          NaN  \n",
        "a                                 GoogleMaps/RochesterNY  \n",
        "al                                                   NaN  \n",
        "c                                                     US  \n",
        "cy                                                 Provo  \n",
        "g                                                 mwszkS  \n",
        "gr                                                    UT  \n",
        "h                                                 mwszkS  \n",
        "hc                                          1.308262e+09  \n",
        "hh                                                  j.mp  \n",
        "kw                                                   NaN  \n",
        "l                                                  bitly  \n",
        "ll                              [40.218102, -111.613297]  \n",
        "nk                                                     0  \n",
        "r                               http://www.AwareMap.com/  \n",
        "t                                           1.331923e+09  \n",
        "tz                                        America/Denver  \n",
        "u            http://www.monroecounty.gov/etc/911/rss.php  "
       ]
      }
     ],
     "prompt_number": 42
    },
    {
     "cell_type": "code",
     "collapsed": false,
     "input": [
      "tz_counts = df.tz.value_counts()\n",
      "tz_counts[:10]"
     ],
     "language": "python",
     "metadata": {},
     "outputs": [
      {
       "output_type": "pyout",
       "prompt_number": 43,
       "text": [
        "America/New_York       1251\n",
        "                        521\n",
        "America/Chicago         400\n",
        "America/Los_Angeles     382\n",
        "America/Denver          191\n",
        "Europe/London            74\n",
        "Asia/Tokyo               37\n",
        "Pacific/Honolulu         36\n",
        "Europe/Madrid            35\n",
        "America/Sao_Paulo        33"
       ]
      }
     ],
     "prompt_number": 43
    },
    {
     "cell_type": "code",
     "collapsed": false,
     "input": [
      "clean_tz = df.tz.fillna('Missing')\n",
      "clean_tz[clean_tz == ''] = 'Unknown'\n",
      "tz_counts = clean_tz.value_counts()\n",
      "tz_counts.head(10)"
     ],
     "language": "python",
     "metadata": {},
     "outputs": [
      {
       "output_type": "pyout",
       "prompt_number": 44,
       "text": [
        "America/New_York       1251\n",
        "Unknown                 521\n",
        "America/Chicago         400\n",
        "America/Los_Angeles     382\n",
        "America/Denver          191\n",
        "Missing                 120\n",
        "Europe/London            74\n",
        "Asia/Tokyo               37\n",
        "Pacific/Honolulu         36\n",
        "Europe/Madrid            35"
       ]
      }
     ],
     "prompt_number": 44
    },
    {
     "cell_type": "code",
     "collapsed": false,
     "input": [
      "tz_counts[:10].plot(kind='barh', rot=0)"
     ],
     "language": "python",
     "metadata": {},
     "outputs": [
      {
       "output_type": "pyout",
       "prompt_number": 45,
       "text": [
        "<matplotlib.axes.AxesSubplot at 0x72f8c90>"
       ]
      },
      {
       "output_type": "display_data",
       "png": "[encoded data removed]"
      }
     ],
     "prompt_number": 45
    },
    {
     "cell_type": "code",
     "collapsed": false,
     "input": [
      "#results = pd.Series([x.split()[0] for x in df.a.dropna()])\n",
      "results = df.a.dropna().str.split().str[0]\n",
      "results[:5]"
     ],
     "language": "python",
     "metadata": {},
     "outputs": [
      {
       "output_type": "pyout",
       "prompt_number": 46,
       "text": [
        "0               Mozilla/5.0\n",
        "1    GoogleMaps/RochesterNY\n",
        "2               Mozilla/4.0\n",
        "3               Mozilla/5.0\n",
        "4               Mozilla/5.0\n",
        "Name: a"
       ]
      }
     ],
     "prompt_number": 46
    },
    {
     "cell_type": "code",
     "collapsed": false,
     "input": [
      "results.value_counts()[:8]"
     ],
     "language": "python",
     "metadata": {},
     "outputs": [
      {
       "output_type": "pyout",
       "prompt_number": 47,
       "text": [
        "Mozilla/5.0                 2594\n",
        "Mozilla/4.0                  601\n",
        "GoogleMaps/RochesterNY       121\n",
        "Opera/9.80                    34\n",
        "TEST_INTERNET_AGENT           24\n",
        "GoogleProducer                21\n",
        "Mozilla/6.0                    5\n",
        "BlackBerry8520/5.0.0.681       4"
       ]
      }
     ],
     "prompt_number": 47
    },
    {
     "cell_type": "markdown",
     "metadata": {},
     "source": [
      "[np.where docs](http://docs.scipy.org/doc/numpy/reference/generated/numpy.where.html)"
     ]
    },
    {
     "cell_type": "code",
     "collapsed": false,
     "input": [
      "cframe = df[df.a.notnull()]\n",
      "os = np.where(cframe.a.str.contains('Windows'), 'Windows', 'Not Windows')\n",
      "os[:5]"
     ],
     "language": "python",
     "metadata": {},
     "outputs": [
      {
       "output_type": "pyout",
       "prompt_number": 48,
       "text": [
        "0        Windows\n",
        "1    Not Windows\n",
        "2        Windows\n",
        "3    Not Windows\n",
        "4        Windows\n",
        "Name: a"
       ]
      }
     ],
     "prompt_number": 48
    },
    {
     "cell_type": "code",
     "collapsed": false,
     "input": [
      "by_tz_os = cframe.groupby(['tz', os])\n",
      "agg_counts = by_tz_os.size().unstack().fillna(0)\n",
      "agg_counts[:10]"
     ],
     "language": "python",
     "metadata": {},
     "outputs": [
      {
       "html": [
        "<div style=\"max-height:1000px;max-width:1500px;overflow:auto;\">\n",
        "<table border=\"1\" class=\"dataframe\">\n",
        "  <thead>\n",
        "    <tr style=\"text-align: right;\">\n",
        "      <th>a</th>\n",
        "      <th>Not Windows</th>\n",
        "      <th>Windows</th>\n",
        "    </tr>\n",
        "    <tr>\n",
        "      <th>tz</th>\n",
        "      <th></th>\n",
        "      <th></th>\n",
        "    </tr>\n",
        "  </thead>\n",
        "  <tbody>\n",
        "    <tr>\n",
        "      <th></th>\n",
        "      <td> 245</td>\n",
        "      <td> 276</td>\n",
        "    </tr>\n",
        "    <tr>\n",
        "      <th>Africa/Cairo</th>\n",
        "      <td>   0</td>\n",
        "      <td>   3</td>\n",
        "    </tr>\n",
        "    <tr>\n",
        "      <th>Africa/Casablanca</th>\n",
        "      <td>   0</td>\n",
        "      <td>   1</td>\n",
        "    </tr>\n",
        "    <tr>\n",
        "      <th>Africa/Ceuta</th>\n",
        "      <td>   0</td>\n",
        "      <td>   2</td>\n",
        "    </tr>\n",
        "    <tr>\n",
        "      <th>Africa/Johannesburg</th>\n",
        "      <td>   0</td>\n",
        "      <td>   1</td>\n",
        "    </tr>\n",
        "    <tr>\n",
        "      <th>Africa/Lusaka</th>\n",
        "      <td>   0</td>\n",
        "      <td>   1</td>\n",
        "    </tr>\n",
        "    <tr>\n",
        "      <th>America/Anchorage</th>\n",
        "      <td>   4</td>\n",
        "      <td>   1</td>\n",
        "    </tr>\n",
        "    <tr>\n",
        "      <th>America/Argentina/Buenos_Aires</th>\n",
        "      <td>   1</td>\n",
        "      <td>   0</td>\n",
        "    </tr>\n",
        "    <tr>\n",
        "      <th>America/Argentina/Cordoba</th>\n",
        "      <td>   0</td>\n",
        "      <td>   1</td>\n",
        "    </tr>\n",
        "    <tr>\n",
        "      <th>America/Argentina/Mendoza</th>\n",
        "      <td>   0</td>\n",
        "      <td>   1</td>\n",
        "    </tr>\n",
        "  </tbody>\n",
        "</table>\n",
        "</div>"
       ],
       "output_type": "pyout",
       "prompt_number": 49,
       "text": [
        "a                               Not Windows  Windows\n",
        "tz                                                  \n",
        "                                        245      276\n",
        "Africa/Cairo                              0        3\n",
        "Africa/Casablanca                         0        1\n",
        "Africa/Ceuta                              0        2\n",
        "Africa/Johannesburg                       0        1\n",
        "Africa/Lusaka                             0        1\n",
        "America/Anchorage                         4        1\n",
        "America/Argentina/Buenos_Aires            1        0\n",
        "America/Argentina/Cordoba                 0        1\n",
        "America/Argentina/Mendoza                 0        1"
       ]
      }
     ],
     "prompt_number": 49
    },
    {
     "cell_type": "code",
     "collapsed": false,
     "input": [
      "indexer = agg_counts.sum(1).argsort().values\n",
      "indexer"
     ],
     "language": "python",
     "metadata": {},
     "outputs": [
      {
       "output_type": "pyout",
       "prompt_number": 50,
       "text": [
        "array([24, 20, 21, 92, 87, 53, 54, 57, 26, 55, 62, 34, 60, 36, 37, 27, 76,\n",
        "       56, 89,  2,  4,  5,  7,  8,  9, 86, 11, 14, 52, 84, 17, 91, 40, 66,\n",
        "       13, 33,  3, 79, 51, 45, 48, 50, 23, 73, 10,  1, 68, 49, 69, 70, 44,\n",
        "       94, 42, 39, 18,  6, 58, 72, 71, 41, 16, 90, 61, 63, 65, 75, 47, 28,\n",
        "       43, 31, 46, 74, 83, 81, 80, 95, 38, 88, 82, 25, 93, 30, 19, 64, 32,\n",
        "       85, 67, 35, 78, 96, 59, 77, 15, 22, 12,  0, 29])"
       ]
      }
     ],
     "prompt_number": 50
    },
    {
     "cell_type": "markdown",
     "metadata": {},
     "source": [
      "[Pandas.Series.take](http://pandas.pydata.org/pandas-docs/dev/generated/pandas.Series.take.html)\n",
      "\n",
      "[numpy take](http://docs.scipy.org/doc/numpy/reference/generated/numpy.take.html)"
     ]
    },
    {
     "cell_type": "code",
     "collapsed": false,
     "input": [
      "count_subset = agg_counts.take(indexer)[-10:]\n",
      "count_subset"
     ],
     "language": "python",
     "metadata": {},
     "outputs": [
      {
       "html": [
        "<div style=\"max-height:1000px;max-width:1500px;overflow:auto;\">\n",
        "<table border=\"1\" class=\"dataframe\">\n",
        "  <thead>\n",
        "    <tr style=\"text-align: right;\">\n",
        "      <th>a</th>\n",
        "      <th>Not Windows</th>\n",
        "      <th>Windows</th>\n",
        "    </tr>\n",
        "    <tr>\n",
        "      <th>tz</th>\n",
        "      <th></th>\n",
        "      <th></th>\n",
        "    </tr>\n",
        "  </thead>\n",
        "  <tbody>\n",
        "    <tr>\n",
        "      <th>America/Sao_Paulo</th>\n",
        "      <td>  13</td>\n",
        "      <td>  20</td>\n",
        "    </tr>\n",
        "    <tr>\n",
        "      <th>Europe/Madrid</th>\n",
        "      <td>  16</td>\n",
        "      <td>  19</td>\n",
        "    </tr>\n",
        "    <tr>\n",
        "      <th>Pacific/Honolulu</th>\n",
        "      <td>   0</td>\n",
        "      <td>  36</td>\n",
        "    </tr>\n",
        "    <tr>\n",
        "      <th>Asia/Tokyo</th>\n",
        "      <td>   2</td>\n",
        "      <td>  35</td>\n",
        "    </tr>\n",
        "    <tr>\n",
        "      <th>Europe/London</th>\n",
        "      <td>  43</td>\n",
        "      <td>  31</td>\n",
        "    </tr>\n",
        "    <tr>\n",
        "      <th>America/Denver</th>\n",
        "      <td> 132</td>\n",
        "      <td>  59</td>\n",
        "    </tr>\n",
        "    <tr>\n",
        "      <th>America/Los_Angeles</th>\n",
        "      <td> 130</td>\n",
        "      <td> 252</td>\n",
        "    </tr>\n",
        "    <tr>\n",
        "      <th>America/Chicago</th>\n",
        "      <td> 115</td>\n",
        "      <td> 285</td>\n",
        "    </tr>\n",
        "    <tr>\n",
        "      <th></th>\n",
        "      <td> 245</td>\n",
        "      <td> 276</td>\n",
        "    </tr>\n",
        "    <tr>\n",
        "      <th>America/New_York</th>\n",
        "      <td> 339</td>\n",
        "      <td> 912</td>\n",
        "    </tr>\n",
        "  </tbody>\n",
        "</table>\n",
        "</div>"
       ],
       "output_type": "pyout",
       "prompt_number": 51,
       "text": [
        "a                    Not Windows  Windows\n",
        "tz                                       \n",
        "America/Sao_Paulo             13       20\n",
        "Europe/Madrid                 16       19\n",
        "Pacific/Honolulu               0       36\n",
        "Asia/Tokyo                     2       35\n",
        "Europe/London                 43       31\n",
        "America/Denver               132       59\n",
        "America/Los_Angeles          130      252\n",
        "America/Chicago              115      285\n",
        "                             245      276\n",
        "America/New_York             339      912"
       ]
      }
     ],
     "prompt_number": 51
    },
    {
     "cell_type": "code",
     "collapsed": false,
     "input": [
      "count_subset.plot(kind='barh', stacked=True)"
     ],
     "language": "python",
     "metadata": {},
     "outputs": [
      {
       "output_type": "pyout",
       "prompt_number": 52,
       "text": [
        "<matplotlib.axes.AxesSubplot at 0x3fc1510>"
       ]
      },
      {
       "output_type": "display_data",
       "png": "[encoded data removed]"
      }
     ],
     "prompt_number": 52
    },
    {
     "cell_type": "code",
     "collapsed": false,
     "input": [
      "normed_subset = count_subset.div(count_subset.sum(1), axis=0)\n",
      "print normed_subset.head()\n",
      "normed_subset.plot(kind='barh', stacked=True)"
     ],
     "language": "python",
     "metadata": {},
     "outputs": [
      {
       "output_type": "stream",
       "stream": "stdout",
       "text": [
        "a                  Not Windows   Windows\n",
        "tz                                      \n",
        "America/Sao_Paulo     0.393939  0.606061\n",
        "Europe/Madrid         0.457143  0.542857\n",
        "Pacific/Honolulu      0.000000  1.000000\n",
        "Asia/Tokyo            0.054054  0.945946\n",
        "Europe/London         0.581081  0.418919\n"
       ]
      },
      {
       "output_type": "pyout",
       "prompt_number": 53,
       "text": [
        "<matplotlib.axes.AxesSubplot at 0x3be5990>"
       ]
      },
      {
       "output_type": "display_data",
       "png": "[encoded data removed]"
      }
     ],
     "prompt_number": 53
    }
   ],
   "metadata": {}
  }
 ]
}